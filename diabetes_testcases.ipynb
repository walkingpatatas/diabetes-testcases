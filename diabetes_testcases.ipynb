{
  "nbformat": 4,
  "nbformat_minor": 0,
  "metadata": {
    "colab": {
      "provenance": []
    },
    "kernelspec": {
      "name": "python3",
      "display_name": "Python 3"
    },
    "language_info": {
      "name": "python"
    }
  },
  "cells": [
    {
      "cell_type": "markdown",
      "source": [
        "# **Import SKLearn functions to perform Machine Learning**"
      ],
      "metadata": {
        "id": "7C5t2EOHOlYE"
      }
    },
    {
      "cell_type": "code",
      "source": [
        "#imports the pandas library and assigns it the alias pd.\n",
        "import pandas as pd\n",
        "\n",
        "#imports the train_test_split function from scikit-learn's model_selection module to split data into training and testing sets.\n",
        "from sklearn.model_selection import train_test_split\n",
        "\n",
        "#imports the GaussianNB class from scikit-learn's naive_bayes module to create a Gaussian Naive Bayes classifier.\n",
        "from sklearn.naive_bayes import GaussianNB\n",
        "\n",
        "#imports the accuracy_score function from scikit-learn's metrics module to evaluate the performance of a classifier by computing the accuracy of its predictions.\n",
        "from sklearn.metrics import accuracy_score\n"
      ],
      "metadata": {
        "id": "UJcOwPvVISSV"
      },
      "execution_count": null,
      "outputs": []
    },
    {
      "cell_type": "markdown",
      "source": [
        "**Read and Print the dataset**"
      ],
      "metadata": {
        "id": "N09Xn2PfOvvR"
      }
    },
    {
      "cell_type": "code",
      "source": [
        "#reads in a CSV file called 'Naive-Bayes-Classification-Data.csv' using the read_csv() function from the pandas library, and stores the resulting DataFrame in a variable called df.\n",
        "df = pd.read_csv('Naive-Bayes-Classification-Data.csv')\n",
        "df"
      ],
      "metadata": {
        "colab": {
          "base_uri": "https://localhost:8080/",
          "height": 423
        },
        "id": "VPqk-K8EIr3z",
        "outputId": "337cca80-3cd9-4877-b047-8d28b5f86f10"
      },
      "execution_count": null,
      "outputs": [
        {
          "output_type": "execute_result",
          "data": {
            "text/plain": [
              "     Glucose  BloodPressure  Diabetes\n",
              "0        148             72         1\n",
              "1         85             66         0\n",
              "2        183             64         1\n",
              "3         89             66         0\n",
              "4        137             40         1\n",
              "..       ...            ...       ...\n",
              "990      113             80         0\n",
              "991      138             82         0\n",
              "992      108             68         0\n",
              "993       99             70         0\n",
              "994      103             72         0\n",
              "\n",
              "[995 rows x 3 columns]"
            ],
            "text/html": [
              "\n",
              "  <div id=\"df-d77abdc6-2bc8-4b5b-b93b-7f6e574f58eb\">\n",
              "    <div class=\"colab-df-container\">\n",
              "      <div>\n",
              "<style scoped>\n",
              "    .dataframe tbody tr th:only-of-type {\n",
              "        vertical-align: middle;\n",
              "    }\n",
              "\n",
              "    .dataframe tbody tr th {\n",
              "        vertical-align: top;\n",
              "    }\n",
              "\n",
              "    .dataframe thead th {\n",
              "        text-align: right;\n",
              "    }\n",
              "</style>\n",
              "<table border=\"1\" class=\"dataframe\">\n",
              "  <thead>\n",
              "    <tr style=\"text-align: right;\">\n",
              "      <th></th>\n",
              "      <th>Glucose</th>\n",
              "      <th>BloodPressure</th>\n",
              "      <th>Diabetes</th>\n",
              "    </tr>\n",
              "  </thead>\n",
              "  <tbody>\n",
              "    <tr>\n",
              "      <th>0</th>\n",
              "      <td>148</td>\n",
              "      <td>72</td>\n",
              "      <td>1</td>\n",
              "    </tr>\n",
              "    <tr>\n",
              "      <th>1</th>\n",
              "      <td>85</td>\n",
              "      <td>66</td>\n",
              "      <td>0</td>\n",
              "    </tr>\n",
              "    <tr>\n",
              "      <th>2</th>\n",
              "      <td>183</td>\n",
              "      <td>64</td>\n",
              "      <td>1</td>\n",
              "    </tr>\n",
              "    <tr>\n",
              "      <th>3</th>\n",
              "      <td>89</td>\n",
              "      <td>66</td>\n",
              "      <td>0</td>\n",
              "    </tr>\n",
              "    <tr>\n",
              "      <th>4</th>\n",
              "      <td>137</td>\n",
              "      <td>40</td>\n",
              "      <td>1</td>\n",
              "    </tr>\n",
              "    <tr>\n",
              "      <th>...</th>\n",
              "      <td>...</td>\n",
              "      <td>...</td>\n",
              "      <td>...</td>\n",
              "    </tr>\n",
              "    <tr>\n",
              "      <th>990</th>\n",
              "      <td>113</td>\n",
              "      <td>80</td>\n",
              "      <td>0</td>\n",
              "    </tr>\n",
              "    <tr>\n",
              "      <th>991</th>\n",
              "      <td>138</td>\n",
              "      <td>82</td>\n",
              "      <td>0</td>\n",
              "    </tr>\n",
              "    <tr>\n",
              "      <th>992</th>\n",
              "      <td>108</td>\n",
              "      <td>68</td>\n",
              "      <td>0</td>\n",
              "    </tr>\n",
              "    <tr>\n",
              "      <th>993</th>\n",
              "      <td>99</td>\n",
              "      <td>70</td>\n",
              "      <td>0</td>\n",
              "    </tr>\n",
              "    <tr>\n",
              "      <th>994</th>\n",
              "      <td>103</td>\n",
              "      <td>72</td>\n",
              "      <td>0</td>\n",
              "    </tr>\n",
              "  </tbody>\n",
              "</table>\n",
              "<p>995 rows × 3 columns</p>\n",
              "</div>\n",
              "      <button class=\"colab-df-convert\" onclick=\"convertToInteractive('df-d77abdc6-2bc8-4b5b-b93b-7f6e574f58eb')\"\n",
              "              title=\"Convert this dataframe to an interactive table.\"\n",
              "              style=\"display:none;\">\n",
              "        \n",
              "  <svg xmlns=\"http://www.w3.org/2000/svg\" height=\"24px\"viewBox=\"0 0 24 24\"\n",
              "       width=\"24px\">\n",
              "    <path d=\"M0 0h24v24H0V0z\" fill=\"none\"/>\n",
              "    <path d=\"M18.56 5.44l.94 2.06.94-2.06 2.06-.94-2.06-.94-.94-2.06-.94 2.06-2.06.94zm-11 1L8.5 8.5l.94-2.06 2.06-.94-2.06-.94L8.5 2.5l-.94 2.06-2.06.94zm10 10l.94 2.06.94-2.06 2.06-.94-2.06-.94-.94-2.06-.94 2.06-2.06.94z\"/><path d=\"M17.41 7.96l-1.37-1.37c-.4-.4-.92-.59-1.43-.59-.52 0-1.04.2-1.43.59L10.3 9.45l-7.72 7.72c-.78.78-.78 2.05 0 2.83L4 21.41c.39.39.9.59 1.41.59.51 0 1.02-.2 1.41-.59l7.78-7.78 2.81-2.81c.8-.78.8-2.07 0-2.86zM5.41 20L4 18.59l7.72-7.72 1.47 1.35L5.41 20z\"/>\n",
              "  </svg>\n",
              "      </button>\n",
              "      \n",
              "  <style>\n",
              "    .colab-df-container {\n",
              "      display:flex;\n",
              "      flex-wrap:wrap;\n",
              "      gap: 12px;\n",
              "    }\n",
              "\n",
              "    .colab-df-convert {\n",
              "      background-color: #E8F0FE;\n",
              "      border: none;\n",
              "      border-radius: 50%;\n",
              "      cursor: pointer;\n",
              "      display: none;\n",
              "      fill: #1967D2;\n",
              "      height: 32px;\n",
              "      padding: 0 0 0 0;\n",
              "      width: 32px;\n",
              "    }\n",
              "\n",
              "    .colab-df-convert:hover {\n",
              "      background-color: #E2EBFA;\n",
              "      box-shadow: 0px 1px 2px rgba(60, 64, 67, 0.3), 0px 1px 3px 1px rgba(60, 64, 67, 0.15);\n",
              "      fill: #174EA6;\n",
              "    }\n",
              "\n",
              "    [theme=dark] .colab-df-convert {\n",
              "      background-color: #3B4455;\n",
              "      fill: #D2E3FC;\n",
              "    }\n",
              "\n",
              "    [theme=dark] .colab-df-convert:hover {\n",
              "      background-color: #434B5C;\n",
              "      box-shadow: 0px 1px 3px 1px rgba(0, 0, 0, 0.15);\n",
              "      filter: drop-shadow(0px 1px 2px rgba(0, 0, 0, 0.3));\n",
              "      fill: #FFFFFF;\n",
              "    }\n",
              "  </style>\n",
              "\n",
              "      <script>\n",
              "        const buttonEl =\n",
              "          document.querySelector('#df-d77abdc6-2bc8-4b5b-b93b-7f6e574f58eb button.colab-df-convert');\n",
              "        buttonEl.style.display =\n",
              "          google.colab.kernel.accessAllowed ? 'block' : 'none';\n",
              "\n",
              "        async function convertToInteractive(key) {\n",
              "          const element = document.querySelector('#df-d77abdc6-2bc8-4b5b-b93b-7f6e574f58eb');\n",
              "          const dataTable =\n",
              "            await google.colab.kernel.invokeFunction('convertToInteractive',\n",
              "                                                     [key], {});\n",
              "          if (!dataTable) return;\n",
              "\n",
              "          const docLinkHtml = 'Like what you see? Visit the ' +\n",
              "            '<a target=\"_blank\" href=https://colab.research.google.com/notebooks/data_table.ipynb>data table notebook</a>'\n",
              "            + ' to learn more about interactive tables.';\n",
              "          element.innerHTML = '';\n",
              "          dataTable['output_type'] = 'display_data';\n",
              "          await google.colab.output.renderOutput(dataTable, element);\n",
              "          const docLink = document.createElement('div');\n",
              "          docLink.innerHTML = docLinkHtml;\n",
              "          element.appendChild(docLink);\n",
              "        }\n",
              "      </script>\n",
              "    </div>\n",
              "  </div>\n",
              "  "
            ]
          },
          "metadata": {},
          "execution_count": 2
        }
      ]
    },
    {
      "cell_type": "markdown",
      "source": [
        "**Featured Value and Predicted Value**"
      ],
      "metadata": {
        "id": "wnIqY8JYO6Qo"
      }
    },
    {
      "cell_type": "code",
      "source": [
        "#these two lines of code are preparing the data for machine learning by separating the features (stored in x) from the target variable or label (stored in y)\n",
        "x = df.drop('Diabetes', axis=1)\n",
        "y = df['Diabetes']"
      ],
      "metadata": {
        "id": "2H3DB9KpJAqZ",
        "colab": {
          "base_uri": "https://localhost:8080/",
          "height": 217
        },
        "outputId": "5e9e8262-5750-43eb-e2ae-b810427496aa"
      },
      "execution_count": null,
      "outputs": [
        {
          "output_type": "error",
          "ename": "NameError",
          "evalue": "ignored",
          "traceback": [
            "\u001b[0;31m---------------------------------------------------------------------------\u001b[0m",
            "\u001b[0;31mNameError\u001b[0m                                 Traceback (most recent call last)",
            "\u001b[0;32m<ipython-input-1-10c195081655>\u001b[0m in \u001b[0;36m<cell line: 2>\u001b[0;34m()\u001b[0m\n\u001b[1;32m      1\u001b[0m \u001b[0;31m#these two lines of code are preparing the data for machine learning by separating the features (stored in x) from the target variable or label (stored in y)\u001b[0m\u001b[0;34m\u001b[0m\u001b[0;34m\u001b[0m\u001b[0m\n\u001b[0;32m----> 2\u001b[0;31m \u001b[0mx\u001b[0m \u001b[0;34m=\u001b[0m \u001b[0mdf\u001b[0m\u001b[0;34m.\u001b[0m\u001b[0mdrop\u001b[0m\u001b[0;34m(\u001b[0m\u001b[0;34m'Diabetes'\u001b[0m\u001b[0;34m,\u001b[0m \u001b[0maxis\u001b[0m\u001b[0;34m=\u001b[0m\u001b[0;36m1\u001b[0m\u001b[0;34m)\u001b[0m\u001b[0;34m\u001b[0m\u001b[0;34m\u001b[0m\u001b[0m\n\u001b[0m\u001b[1;32m      3\u001b[0m \u001b[0my\u001b[0m \u001b[0;34m=\u001b[0m \u001b[0mdf\u001b[0m\u001b[0;34m[\u001b[0m\u001b[0;34m'Diabetes'\u001b[0m\u001b[0;34m]\u001b[0m\u001b[0;34m\u001b[0m\u001b[0;34m\u001b[0m\u001b[0m\n",
            "\u001b[0;31mNameError\u001b[0m: name 'df' is not defined"
          ]
        }
      ]
    },
    {
      "cell_type": "markdown",
      "source": [
        "**Set the Training and Testing Data for Validation**"
      ],
      "metadata": {
        "id": "xtCrcW7rPIU4"
      }
    },
    {
      "cell_type": "code",
      "source": [
        "#this line of code is splitting the data into training and testing sets, which is a common step in machine learning tasks to ensure that the model is able to generalize well to new, unseen data.\n",
        "x_train, x_test, y_train, y_test = train_test_split(x,y,test_size = 0.2)"
      ],
      "metadata": {
        "id": "s-uvoKjsJJby"
      },
      "execution_count": null,
      "outputs": []
    },
    {
      "cell_type": "markdown",
      "source": [
        "**80% of train data (796)**"
      ],
      "metadata": {
        "id": "NuluMZoxPM6u"
      }
    },
    {
      "cell_type": "code",
      "source": [
        "#x_train is the subset of the original data x that has been randomly selected to train the machine learning model.\n",
        "x_train"
      ],
      "metadata": {
        "colab": {
          "base_uri": "https://localhost:8080/",
          "height": 423
        },
        "id": "24Y5UVlNJruv",
        "outputId": "150bcd82-7e42-4089-a4f2-b00fa0c65d18"
      },
      "execution_count": null,
      "outputs": [
        {
          "output_type": "execute_result",
          "data": {
            "text/plain": [
              "     Glucose  BloodPressure\n",
              "672       68            106\n",
              "704      110             76\n",
              "899      139             80\n",
              "296      146             70\n",
              "251      129             84\n",
              "..       ...            ...\n",
              "761      170             74\n",
              "701      125             78\n",
              "441       83             66\n",
              "208       96             64\n",
              "760       88             58\n",
              "\n",
              "[796 rows x 2 columns]"
            ],
            "text/html": [
              "\n",
              "  <div id=\"df-3ed5ff0a-e9f9-4aaa-b731-91afbdbdf2de\">\n",
              "    <div class=\"colab-df-container\">\n",
              "      <div>\n",
              "<style scoped>\n",
              "    .dataframe tbody tr th:only-of-type {\n",
              "        vertical-align: middle;\n",
              "    }\n",
              "\n",
              "    .dataframe tbody tr th {\n",
              "        vertical-align: top;\n",
              "    }\n",
              "\n",
              "    .dataframe thead th {\n",
              "        text-align: right;\n",
              "    }\n",
              "</style>\n",
              "<table border=\"1\" class=\"dataframe\">\n",
              "  <thead>\n",
              "    <tr style=\"text-align: right;\">\n",
              "      <th></th>\n",
              "      <th>Glucose</th>\n",
              "      <th>BloodPressure</th>\n",
              "    </tr>\n",
              "  </thead>\n",
              "  <tbody>\n",
              "    <tr>\n",
              "      <th>672</th>\n",
              "      <td>68</td>\n",
              "      <td>106</td>\n",
              "    </tr>\n",
              "    <tr>\n",
              "      <th>704</th>\n",
              "      <td>110</td>\n",
              "      <td>76</td>\n",
              "    </tr>\n",
              "    <tr>\n",
              "      <th>899</th>\n",
              "      <td>139</td>\n",
              "      <td>80</td>\n",
              "    </tr>\n",
              "    <tr>\n",
              "      <th>296</th>\n",
              "      <td>146</td>\n",
              "      <td>70</td>\n",
              "    </tr>\n",
              "    <tr>\n",
              "      <th>251</th>\n",
              "      <td>129</td>\n",
              "      <td>84</td>\n",
              "    </tr>\n",
              "    <tr>\n",
              "      <th>...</th>\n",
              "      <td>...</td>\n",
              "      <td>...</td>\n",
              "    </tr>\n",
              "    <tr>\n",
              "      <th>761</th>\n",
              "      <td>170</td>\n",
              "      <td>74</td>\n",
              "    </tr>\n",
              "    <tr>\n",
              "      <th>701</th>\n",
              "      <td>125</td>\n",
              "      <td>78</td>\n",
              "    </tr>\n",
              "    <tr>\n",
              "      <th>441</th>\n",
              "      <td>83</td>\n",
              "      <td>66</td>\n",
              "    </tr>\n",
              "    <tr>\n",
              "      <th>208</th>\n",
              "      <td>96</td>\n",
              "      <td>64</td>\n",
              "    </tr>\n",
              "    <tr>\n",
              "      <th>760</th>\n",
              "      <td>88</td>\n",
              "      <td>58</td>\n",
              "    </tr>\n",
              "  </tbody>\n",
              "</table>\n",
              "<p>796 rows × 2 columns</p>\n",
              "</div>\n",
              "      <button class=\"colab-df-convert\" onclick=\"convertToInteractive('df-3ed5ff0a-e9f9-4aaa-b731-91afbdbdf2de')\"\n",
              "              title=\"Convert this dataframe to an interactive table.\"\n",
              "              style=\"display:none;\">\n",
              "        \n",
              "  <svg xmlns=\"http://www.w3.org/2000/svg\" height=\"24px\"viewBox=\"0 0 24 24\"\n",
              "       width=\"24px\">\n",
              "    <path d=\"M0 0h24v24H0V0z\" fill=\"none\"/>\n",
              "    <path d=\"M18.56 5.44l.94 2.06.94-2.06 2.06-.94-2.06-.94-.94-2.06-.94 2.06-2.06.94zm-11 1L8.5 8.5l.94-2.06 2.06-.94-2.06-.94L8.5 2.5l-.94 2.06-2.06.94zm10 10l.94 2.06.94-2.06 2.06-.94-2.06-.94-.94-2.06-.94 2.06-2.06.94z\"/><path d=\"M17.41 7.96l-1.37-1.37c-.4-.4-.92-.59-1.43-.59-.52 0-1.04.2-1.43.59L10.3 9.45l-7.72 7.72c-.78.78-.78 2.05 0 2.83L4 21.41c.39.39.9.59 1.41.59.51 0 1.02-.2 1.41-.59l7.78-7.78 2.81-2.81c.8-.78.8-2.07 0-2.86zM5.41 20L4 18.59l7.72-7.72 1.47 1.35L5.41 20z\"/>\n",
              "  </svg>\n",
              "      </button>\n",
              "      \n",
              "  <style>\n",
              "    .colab-df-container {\n",
              "      display:flex;\n",
              "      flex-wrap:wrap;\n",
              "      gap: 12px;\n",
              "    }\n",
              "\n",
              "    .colab-df-convert {\n",
              "      background-color: #E8F0FE;\n",
              "      border: none;\n",
              "      border-radius: 50%;\n",
              "      cursor: pointer;\n",
              "      display: none;\n",
              "      fill: #1967D2;\n",
              "      height: 32px;\n",
              "      padding: 0 0 0 0;\n",
              "      width: 32px;\n",
              "    }\n",
              "\n",
              "    .colab-df-convert:hover {\n",
              "      background-color: #E2EBFA;\n",
              "      box-shadow: 0px 1px 2px rgba(60, 64, 67, 0.3), 0px 1px 3px 1px rgba(60, 64, 67, 0.15);\n",
              "      fill: #174EA6;\n",
              "    }\n",
              "\n",
              "    [theme=dark] .colab-df-convert {\n",
              "      background-color: #3B4455;\n",
              "      fill: #D2E3FC;\n",
              "    }\n",
              "\n",
              "    [theme=dark] .colab-df-convert:hover {\n",
              "      background-color: #434B5C;\n",
              "      box-shadow: 0px 1px 3px 1px rgba(0, 0, 0, 0.15);\n",
              "      filter: drop-shadow(0px 1px 2px rgba(0, 0, 0, 0.3));\n",
              "      fill: #FFFFFF;\n",
              "    }\n",
              "  </style>\n",
              "\n",
              "      <script>\n",
              "        const buttonEl =\n",
              "          document.querySelector('#df-3ed5ff0a-e9f9-4aaa-b731-91afbdbdf2de button.colab-df-convert');\n",
              "        buttonEl.style.display =\n",
              "          google.colab.kernel.accessAllowed ? 'block' : 'none';\n",
              "\n",
              "        async function convertToInteractive(key) {\n",
              "          const element = document.querySelector('#df-3ed5ff0a-e9f9-4aaa-b731-91afbdbdf2de');\n",
              "          const dataTable =\n",
              "            await google.colab.kernel.invokeFunction('convertToInteractive',\n",
              "                                                     [key], {});\n",
              "          if (!dataTable) return;\n",
              "\n",
              "          const docLinkHtml = 'Like what you see? Visit the ' +\n",
              "            '<a target=\"_blank\" href=https://colab.research.google.com/notebooks/data_table.ipynb>data table notebook</a>'\n",
              "            + ' to learn more about interactive tables.';\n",
              "          element.innerHTML = '';\n",
              "          dataTable['output_type'] = 'display_data';\n",
              "          await google.colab.output.renderOutput(dataTable, element);\n",
              "          const docLink = document.createElement('div');\n",
              "          docLink.innerHTML = docLinkHtml;\n",
              "          element.appendChild(docLink);\n",
              "        }\n",
              "      </script>\n",
              "    </div>\n",
              "  </div>\n",
              "  "
            ]
          },
          "metadata": {},
          "execution_count": 8
        }
      ]
    },
    {
      "cell_type": "markdown",
      "source": [
        "**20% of train data (199)**"
      ],
      "metadata": {
        "id": "S7qEBtYRPSyz"
      }
    },
    {
      "cell_type": "code",
      "source": [
        "#x_test refers to the variable that contains the features (or independent variables) for the testing data\n",
        "x_test"
      ],
      "metadata": {
        "colab": {
          "base_uri": "https://localhost:8080/",
          "height": 423
        },
        "id": "3xZKtKcgJtRV",
        "outputId": "dd8c975e-b1d5-4488-81ef-02912e045664"
      },
      "execution_count": null,
      "outputs": [
        {
          "output_type": "execute_result",
          "data": {
            "text/plain": [
              "     Glucose  BloodPressure\n",
              "657      120             80\n",
              "364      147             74\n",
              "927      125             68\n",
              "804       75             64\n",
              "406      115             72\n",
              "..       ...            ...\n",
              "241       91             70\n",
              "852      119              0\n",
              "185      194             68\n",
              "746      147             94\n",
              "495      166             74\n",
              "\n",
              "[199 rows x 2 columns]"
            ],
            "text/html": [
              "\n",
              "  <div id=\"df-2b10f12d-603a-451c-bb05-30b304e7866a\">\n",
              "    <div class=\"colab-df-container\">\n",
              "      <div>\n",
              "<style scoped>\n",
              "    .dataframe tbody tr th:only-of-type {\n",
              "        vertical-align: middle;\n",
              "    }\n",
              "\n",
              "    .dataframe tbody tr th {\n",
              "        vertical-align: top;\n",
              "    }\n",
              "\n",
              "    .dataframe thead th {\n",
              "        text-align: right;\n",
              "    }\n",
              "</style>\n",
              "<table border=\"1\" class=\"dataframe\">\n",
              "  <thead>\n",
              "    <tr style=\"text-align: right;\">\n",
              "      <th></th>\n",
              "      <th>Glucose</th>\n",
              "      <th>BloodPressure</th>\n",
              "    </tr>\n",
              "  </thead>\n",
              "  <tbody>\n",
              "    <tr>\n",
              "      <th>657</th>\n",
              "      <td>120</td>\n",
              "      <td>80</td>\n",
              "    </tr>\n",
              "    <tr>\n",
              "      <th>364</th>\n",
              "      <td>147</td>\n",
              "      <td>74</td>\n",
              "    </tr>\n",
              "    <tr>\n",
              "      <th>927</th>\n",
              "      <td>125</td>\n",
              "      <td>68</td>\n",
              "    </tr>\n",
              "    <tr>\n",
              "      <th>804</th>\n",
              "      <td>75</td>\n",
              "      <td>64</td>\n",
              "    </tr>\n",
              "    <tr>\n",
              "      <th>406</th>\n",
              "      <td>115</td>\n",
              "      <td>72</td>\n",
              "    </tr>\n",
              "    <tr>\n",
              "      <th>...</th>\n",
              "      <td>...</td>\n",
              "      <td>...</td>\n",
              "    </tr>\n",
              "    <tr>\n",
              "      <th>241</th>\n",
              "      <td>91</td>\n",
              "      <td>70</td>\n",
              "    </tr>\n",
              "    <tr>\n",
              "      <th>852</th>\n",
              "      <td>119</td>\n",
              "      <td>0</td>\n",
              "    </tr>\n",
              "    <tr>\n",
              "      <th>185</th>\n",
              "      <td>194</td>\n",
              "      <td>68</td>\n",
              "    </tr>\n",
              "    <tr>\n",
              "      <th>746</th>\n",
              "      <td>147</td>\n",
              "      <td>94</td>\n",
              "    </tr>\n",
              "    <tr>\n",
              "      <th>495</th>\n",
              "      <td>166</td>\n",
              "      <td>74</td>\n",
              "    </tr>\n",
              "  </tbody>\n",
              "</table>\n",
              "<p>199 rows × 2 columns</p>\n",
              "</div>\n",
              "      <button class=\"colab-df-convert\" onclick=\"convertToInteractive('df-2b10f12d-603a-451c-bb05-30b304e7866a')\"\n",
              "              title=\"Convert this dataframe to an interactive table.\"\n",
              "              style=\"display:none;\">\n",
              "        \n",
              "  <svg xmlns=\"http://www.w3.org/2000/svg\" height=\"24px\"viewBox=\"0 0 24 24\"\n",
              "       width=\"24px\">\n",
              "    <path d=\"M0 0h24v24H0V0z\" fill=\"none\"/>\n",
              "    <path d=\"M18.56 5.44l.94 2.06.94-2.06 2.06-.94-2.06-.94-.94-2.06-.94 2.06-2.06.94zm-11 1L8.5 8.5l.94-2.06 2.06-.94-2.06-.94L8.5 2.5l-.94 2.06-2.06.94zm10 10l.94 2.06.94-2.06 2.06-.94-2.06-.94-.94-2.06-.94 2.06-2.06.94z\"/><path d=\"M17.41 7.96l-1.37-1.37c-.4-.4-.92-.59-1.43-.59-.52 0-1.04.2-1.43.59L10.3 9.45l-7.72 7.72c-.78.78-.78 2.05 0 2.83L4 21.41c.39.39.9.59 1.41.59.51 0 1.02-.2 1.41-.59l7.78-7.78 2.81-2.81c.8-.78.8-2.07 0-2.86zM5.41 20L4 18.59l7.72-7.72 1.47 1.35L5.41 20z\"/>\n",
              "  </svg>\n",
              "      </button>\n",
              "      \n",
              "  <style>\n",
              "    .colab-df-container {\n",
              "      display:flex;\n",
              "      flex-wrap:wrap;\n",
              "      gap: 12px;\n",
              "    }\n",
              "\n",
              "    .colab-df-convert {\n",
              "      background-color: #E8F0FE;\n",
              "      border: none;\n",
              "      border-radius: 50%;\n",
              "      cursor: pointer;\n",
              "      display: none;\n",
              "      fill: #1967D2;\n",
              "      height: 32px;\n",
              "      padding: 0 0 0 0;\n",
              "      width: 32px;\n",
              "    }\n",
              "\n",
              "    .colab-df-convert:hover {\n",
              "      background-color: #E2EBFA;\n",
              "      box-shadow: 0px 1px 2px rgba(60, 64, 67, 0.3), 0px 1px 3px 1px rgba(60, 64, 67, 0.15);\n",
              "      fill: #174EA6;\n",
              "    }\n",
              "\n",
              "    [theme=dark] .colab-df-convert {\n",
              "      background-color: #3B4455;\n",
              "      fill: #D2E3FC;\n",
              "    }\n",
              "\n",
              "    [theme=dark] .colab-df-convert:hover {\n",
              "      background-color: #434B5C;\n",
              "      box-shadow: 0px 1px 3px 1px rgba(0, 0, 0, 0.15);\n",
              "      filter: drop-shadow(0px 1px 2px rgba(0, 0, 0, 0.3));\n",
              "      fill: #FFFFFF;\n",
              "    }\n",
              "  </style>\n",
              "\n",
              "      <script>\n",
              "        const buttonEl =\n",
              "          document.querySelector('#df-2b10f12d-603a-451c-bb05-30b304e7866a button.colab-df-convert');\n",
              "        buttonEl.style.display =\n",
              "          google.colab.kernel.accessAllowed ? 'block' : 'none';\n",
              "\n",
              "        async function convertToInteractive(key) {\n",
              "          const element = document.querySelector('#df-2b10f12d-603a-451c-bb05-30b304e7866a');\n",
              "          const dataTable =\n",
              "            await google.colab.kernel.invokeFunction('convertToInteractive',\n",
              "                                                     [key], {});\n",
              "          if (!dataTable) return;\n",
              "\n",
              "          const docLinkHtml = 'Like what you see? Visit the ' +\n",
              "            '<a target=\"_blank\" href=https://colab.research.google.com/notebooks/data_table.ipynb>data table notebook</a>'\n",
              "            + ' to learn more about interactive tables.';\n",
              "          element.innerHTML = '';\n",
              "          dataTable['output_type'] = 'display_data';\n",
              "          await google.colab.output.renderOutput(dataTable, element);\n",
              "          const docLink = document.createElement('div');\n",
              "          docLink.innerHTML = docLinkHtml;\n",
              "          element.appendChild(docLink);\n",
              "        }\n",
              "      </script>\n",
              "    </div>\n",
              "  </div>\n",
              "  "
            ]
          },
          "metadata": {},
          "execution_count": 9
        }
      ]
    },
    {
      "cell_type": "markdown",
      "source": [
        "**80% of test data (796)**"
      ],
      "metadata": {
        "id": "RJHBZrywPZno"
      }
    },
    {
      "cell_type": "code",
      "source": [
        "#y_train refers to the variable that contains the target variable (or dependent variable) for the training data.\n",
        "y_train"
      ],
      "metadata": {
        "colab": {
          "base_uri": "https://localhost:8080/"
        },
        "id": "vLWjA8CUJvSD",
        "outputId": "8d67b10d-2147-4c76-ba16-62b62b62e4e3"
      },
      "execution_count": null,
      "outputs": [
        {
          "output_type": "execute_result",
          "data": {
            "text/plain": [
              "111    1\n",
              "744    0\n",
              "622    0\n",
              "864    0\n",
              "80     0\n",
              "      ..\n",
              "157    0\n",
              "206    1\n",
              "628    0\n",
              "876    0\n",
              "218    1\n",
              "Name: Diabetes, Length: 796, dtype: int64"
            ]
          },
          "metadata": {},
          "execution_count": 9
        }
      ]
    },
    {
      "cell_type": "markdown",
      "source": [
        "**20% of test data (199)**"
      ],
      "metadata": {
        "id": "zqx665IpPeel"
      }
    },
    {
      "cell_type": "code",
      "source": [
        "#y_test refers to the variable that contains the target variable (or dependent variable) for the testing data.\n",
        "y_test"
      ],
      "metadata": {
        "colab": {
          "base_uri": "https://localhost:8080/"
        },
        "id": "JxNP3H1YJxa3",
        "outputId": "edcd01f7-7370-41f9-8543-e267e1ebbd67"
      },
      "execution_count": null,
      "outputs": [
        {
          "output_type": "execute_result",
          "data": {
            "text/plain": [
              "428    0\n",
              "672    0\n",
              "748    1\n",
              "617    0\n",
              "611    1\n",
              "      ..\n",
              "674    0\n",
              "318    0\n",
              "446    0\n",
              "131    1\n",
              "910    0\n",
              "Name: Diabetes, Length: 199, dtype: int64"
            ]
          },
          "metadata": {},
          "execution_count": 10
        }
      ]
    },
    {
      "cell_type": "markdown",
      "source": [
        "**Import Machine Learning Model**"
      ],
      "metadata": {
        "id": "t954FGC0PryH"
      }
    },
    {
      "cell_type": "code",
      "source": [
        "#this line creates a new instance of a Gaussian Naive Bayes model, which is an algorithm that is commonly used for classification tasks.\n",
        "model = GaussianNB()\n",
        "\n",
        "#this line trains the Naive Bayes model on the training data. Specifically, it uses the x_train data (the independent variables) and the y_train data (the dependent variable) to learn how to predict the target variable.\n",
        "model.fit(x_train, y_train)"
      ],
      "metadata": {
        "colab": {
          "base_uri": "https://localhost:8080/",
          "height": 74
        },
        "id": "VoVihXYsJ2-o",
        "outputId": "7f583a2e-2ecb-4fcd-9d53-68639f364e29"
      },
      "execution_count": null,
      "outputs": [
        {
          "output_type": "execute_result",
          "data": {
            "text/plain": [
              "GaussianNB()"
            ],
            "text/html": [
              "<style>#sk-container-id-1 {color: black;background-color: white;}#sk-container-id-1 pre{padding: 0;}#sk-container-id-1 div.sk-toggleable {background-color: white;}#sk-container-id-1 label.sk-toggleable__label {cursor: pointer;display: block;width: 100%;margin-bottom: 0;padding: 0.3em;box-sizing: border-box;text-align: center;}#sk-container-id-1 label.sk-toggleable__label-arrow:before {content: \"▸\";float: left;margin-right: 0.25em;color: #696969;}#sk-container-id-1 label.sk-toggleable__label-arrow:hover:before {color: black;}#sk-container-id-1 div.sk-estimator:hover label.sk-toggleable__label-arrow:before {color: black;}#sk-container-id-1 div.sk-toggleable__content {max-height: 0;max-width: 0;overflow: hidden;text-align: left;background-color: #f0f8ff;}#sk-container-id-1 div.sk-toggleable__content pre {margin: 0.2em;color: black;border-radius: 0.25em;background-color: #f0f8ff;}#sk-container-id-1 input.sk-toggleable__control:checked~div.sk-toggleable__content {max-height: 200px;max-width: 100%;overflow: auto;}#sk-container-id-1 input.sk-toggleable__control:checked~label.sk-toggleable__label-arrow:before {content: \"▾\";}#sk-container-id-1 div.sk-estimator input.sk-toggleable__control:checked~label.sk-toggleable__label {background-color: #d4ebff;}#sk-container-id-1 div.sk-label input.sk-toggleable__control:checked~label.sk-toggleable__label {background-color: #d4ebff;}#sk-container-id-1 input.sk-hidden--visually {border: 0;clip: rect(1px 1px 1px 1px);clip: rect(1px, 1px, 1px, 1px);height: 1px;margin: -1px;overflow: hidden;padding: 0;position: absolute;width: 1px;}#sk-container-id-1 div.sk-estimator {font-family: monospace;background-color: #f0f8ff;border: 1px dotted black;border-radius: 0.25em;box-sizing: border-box;margin-bottom: 0.5em;}#sk-container-id-1 div.sk-estimator:hover {background-color: #d4ebff;}#sk-container-id-1 div.sk-parallel-item::after {content: \"\";width: 100%;border-bottom: 1px solid gray;flex-grow: 1;}#sk-container-id-1 div.sk-label:hover label.sk-toggleable__label {background-color: #d4ebff;}#sk-container-id-1 div.sk-serial::before {content: \"\";position: absolute;border-left: 1px solid gray;box-sizing: border-box;top: 0;bottom: 0;left: 50%;z-index: 0;}#sk-container-id-1 div.sk-serial {display: flex;flex-direction: column;align-items: center;background-color: white;padding-right: 0.2em;padding-left: 0.2em;position: relative;}#sk-container-id-1 div.sk-item {position: relative;z-index: 1;}#sk-container-id-1 div.sk-parallel {display: flex;align-items: stretch;justify-content: center;background-color: white;position: relative;}#sk-container-id-1 div.sk-item::before, #sk-container-id-1 div.sk-parallel-item::before {content: \"\";position: absolute;border-left: 1px solid gray;box-sizing: border-box;top: 0;bottom: 0;left: 50%;z-index: -1;}#sk-container-id-1 div.sk-parallel-item {display: flex;flex-direction: column;z-index: 1;position: relative;background-color: white;}#sk-container-id-1 div.sk-parallel-item:first-child::after {align-self: flex-end;width: 50%;}#sk-container-id-1 div.sk-parallel-item:last-child::after {align-self: flex-start;width: 50%;}#sk-container-id-1 div.sk-parallel-item:only-child::after {width: 0;}#sk-container-id-1 div.sk-dashed-wrapped {border: 1px dashed gray;margin: 0 0.4em 0.5em 0.4em;box-sizing: border-box;padding-bottom: 0.4em;background-color: white;}#sk-container-id-1 div.sk-label label {font-family: monospace;font-weight: bold;display: inline-block;line-height: 1.2em;}#sk-container-id-1 div.sk-label-container {text-align: center;}#sk-container-id-1 div.sk-container {/* jupyter's `normalize.less` sets `[hidden] { display: none; }` but bootstrap.min.css set `[hidden] { display: none !important; }` so we also need the `!important` here to be able to override the default hidden behavior on the sphinx rendered scikit-learn.org. See: https://github.com/scikit-learn/scikit-learn/issues/21755 */display: inline-block !important;position: relative;}#sk-container-id-1 div.sk-text-repr-fallback {display: none;}</style><div id=\"sk-container-id-1\" class=\"sk-top-container\"><div class=\"sk-text-repr-fallback\"><pre>GaussianNB()</pre><b>In a Jupyter environment, please rerun this cell to show the HTML representation or trust the notebook. <br />On GitHub, the HTML representation is unable to render, please try loading this page with nbviewer.org.</b></div><div class=\"sk-container\" hidden><div class=\"sk-item\"><div class=\"sk-estimator sk-toggleable\"><input class=\"sk-toggleable__control sk-hidden--visually\" id=\"sk-estimator-id-1\" type=\"checkbox\" checked><label for=\"sk-estimator-id-1\" class=\"sk-toggleable__label sk-toggleable__label-arrow\">GaussianNB</label><div class=\"sk-toggleable__content\"><pre>GaussianNB()</pre></div></div></div></div></div>"
            ]
          },
          "metadata": {},
          "execution_count": 11
        }
      ]
    },
    {
      "cell_type": "markdown",
      "source": [
        "**Predicted Values of x_test**"
      ],
      "metadata": {
        "id": "zxEEyo-CPzhU"
      }
    },
    {
      "cell_type": "code",
      "source": [
        "#this line uses the trained model to make predictions on the x_test data.\n",
        "predicted_value = model.predict(x_test)\n",
        "\n",
        "#this line simply prints out the predictions that were made by the model on the x_test data.\n",
        "predicted_value"
      ],
      "metadata": {
        "colab": {
          "base_uri": "https://localhost:8080/"
        },
        "id": "WOycRk31KDDb",
        "outputId": "4eb862c1-0881-4a42-a78d-f0b2c55127ea"
      },
      "execution_count": null,
      "outputs": [
        {
          "output_type": "execute_result",
          "data": {
            "text/plain": [
              "array([0, 1, 0, 0, 0, 1, 0, 0, 0, 0, 0, 0, 1, 0, 1, 1, 0, 1, 1, 0, 1, 0,\n",
              "       0, 0, 0, 1, 0, 0, 0, 0, 1, 0, 0, 1, 0, 0, 0, 1, 1, 1, 1, 0, 0, 1,\n",
              "       0, 1, 0, 0, 0, 0, 1, 0, 0, 0, 0, 0, 1, 0, 0, 0, 0, 0, 1, 0, 0, 0,\n",
              "       0, 0, 0, 1, 0, 1, 0, 0, 0, 0, 0, 0, 0, 0, 1, 1, 1, 1, 1, 1, 0, 0,\n",
              "       0, 1, 0, 1, 1, 0, 0, 0, 0, 0, 0, 0, 0, 1, 1, 0, 0, 0, 0, 0, 1, 0,\n",
              "       0, 0, 1, 0, 0, 0, 0, 0, 1, 0, 0, 1, 0, 0, 0, 0, 0, 0, 1, 0, 0, 0,\n",
              "       0, 0, 0, 1, 0, 0, 0, 0, 0, 0, 0, 1, 1, 0, 0, 1, 0, 1, 0, 1, 0, 1,\n",
              "       0, 0, 0, 0, 1, 0, 0, 0, 1, 0, 0, 0, 0, 0, 0, 1, 1, 0, 0, 0, 1, 0,\n",
              "       0, 1, 1, 0, 1, 0, 0, 1, 1, 0, 0, 1, 0, 0, 1, 1, 0, 0, 0, 1, 1, 1,\n",
              "       1])"
            ]
          },
          "metadata": {},
          "execution_count": 12
        }
      ]
    },
    {
      "cell_type": "markdown",
      "source": [
        "**Accuracy Score**"
      ],
      "metadata": {
        "id": "z8p7xXOLP62o"
      }
    },
    {
      "cell_type": "code",
      "source": [
        "#this line of code calculates the accuracy of the Naive Bayes model's predictions on the x_test data and expresses it as a percentage.\n",
        "accuracy_score(predicted_value, y_test) * 100"
      ],
      "metadata": {
        "colab": {
          "base_uri": "https://localhost:8080/"
        },
        "id": "x64a94FkKKkh",
        "outputId": "637a244e-30f3-40e7-889b-80cbfa1b89c9"
      },
      "execution_count": null,
      "outputs": [
        {
          "output_type": "execute_result",
          "data": {
            "text/plain": [
              "76.88442211055276"
            ]
          },
          "metadata": {},
          "execution_count": 13
        }
      ]
    },
    {
      "cell_type": "markdown",
      "source": [
        "# **Generate the Confusion Matrix**"
      ],
      "metadata": {
        "id": "3Xy9Xvb_La5F"
      }
    },
    {
      "cell_type": "code",
      "source": [
        "#confusion_matrix is used to create a matrix that shows the number of true positives, true negatives, false positives, and false negatives for a set of predictions.\n",
        "#accuracy_score is used to calculate the accuracy of the predictions based on the confusion matrix.\n",
        "from sklearn.metrics import confusion_matrix, accuracy_score"
      ],
      "metadata": {
        "id": "KI5pNQJcKjL-"
      },
      "execution_count": null,
      "outputs": []
    },
    {
      "cell_type": "markdown",
      "source": [
        "**Read and Print the confusion matrix**"
      ],
      "metadata": {
        "id": "ZZowudgU6XK0"
      }
    },
    {
      "cell_type": "code",
      "source": [
        "#these two lines of code calculate and print the confusion matrix for the predictions made by the Naive Bayes model on the x_test data.\n",
        "cf = confusion_matrix (predicted_value, y_test)\n",
        "cf"
      ],
      "metadata": {
        "colab": {
          "base_uri": "https://localhost:8080/"
        },
        "id": "Bf1RxPMiKrlz",
        "outputId": "2d8406bc-961f-4251-8cf9-f5013cd79b81"
      },
      "execution_count": null,
      "outputs": [
        {
          "output_type": "execute_result",
          "data": {
            "text/plain": [
              "array([[111,  26],\n",
              "       [ 20,  42]])"
            ]
          },
          "metadata": {},
          "execution_count": 15
        }
      ]
    },
    {
      "cell_type": "markdown",
      "source": [
        "**Computation of Recall**"
      ],
      "metadata": {
        "id": "9narhHsB6PvG"
      }
    },
    {
      "cell_type": "code",
      "source": [
        "#the recall is calculated as the number of true positives divided by the sum of true positives and false negatives. The result is then multiplied by 100 to express it as a percentage.\n",
        "recall = cf [0,0] / (cf [0,0] + cf [1,0]) * 100\n",
        "\n",
        "#this line of code prints out the recall score that was calculated in the previous line of code, formatted to two decimal places and expressed as a percentage.\n",
        "print ('Recall: {:.2f}%'.format(recall))"
      ],
      "metadata": {
        "colab": {
          "base_uri": "https://localhost:8080/"
        },
        "id": "PcEQmSvlKxMJ",
        "outputId": "e966b5c9-d19f-44ec-a21f-5d228045e98b"
      },
      "execution_count": null,
      "outputs": [
        {
          "output_type": "stream",
          "name": "stdout",
          "text": [
            "Recall: 88.00%\n"
          ]
        }
      ]
    },
    {
      "cell_type": "markdown",
      "source": [
        "**Computation of Precision**"
      ],
      "metadata": {
        "id": "KE7UzaYI8A9o"
      }
    },
    {
      "cell_type": "code",
      "source": [
        "#precision is calculated as the number of true positives divided by the sum of true positives and false positives. The result is then multiplied by 100 to express it as a percentage.\n",
        "precision = cf [0,0] / (cf [0,0] + cf [0,1]) * 100\n",
        "\n",
        "#this line of code prints out the precision score that was calculated in the previous line of code, formatted to two decimal places and expressed as a percentage.\n",
        "print ('Precision: {:.2f}%'.format(precision))"
      ],
      "metadata": {
        "colab": {
          "base_uri": "https://localhost:8080/"
        },
        "id": "DZ2MU6h7MWBK",
        "outputId": "0b8cbe05-08d2-4bf3-9198-72f42d3faa98"
      },
      "execution_count": null,
      "outputs": [
        {
          "output_type": "stream",
          "name": "stdout",
          "text": [
            "Precision: 81.02%\n"
          ]
        }
      ]
    },
    {
      "cell_type": "markdown",
      "source": [
        "**Computation of Accuracy**"
      ],
      "metadata": {
        "id": "NkVnDvrp8FO0"
      }
    },
    {
      "cell_type": "code",
      "source": [
        "#this line of code calculates the total number of records in the x_test data by counting the number of rows in the data frame using the len() function.\n",
        "total = len(x_test.index)\n",
        "\n",
        "#the accuracy is calculated as the sum of true positives and true negatives divided by the total number of records in the x_test data, and then multiplied by 100 to express it as a percentage.\n",
        "accuracy = (cf [0,0] + cf [1,1]) / total * 100\n",
        "\n",
        "#this line of code prints out the accuracy score that was calculated in the previous line of code, formatted to two decimal places and expressed as a percentage.\n",
        "print ('Accuracy: {:.2f}%'.format(accuracy))"
      ],
      "metadata": {
        "colab": {
          "base_uri": "https://localhost:8080/"
        },
        "id": "zP7JHPD-Ms7s",
        "outputId": "d6497430-9e94-4f36-8ea0-16aef44abd44"
      },
      "execution_count": null,
      "outputs": [
        {
          "output_type": "stream",
          "name": "stdout",
          "text": [
            "Accuracy: 73.87%\n"
          ]
        }
      ]
    },
    {
      "cell_type": "markdown",
      "source": [
        "**Extract the Values from the Confusion Matrix**"
      ],
      "metadata": {
        "id": "SNi0_3Rz8NBc"
      }
    },
    {
      "cell_type": "code",
      "source": [
        "#his line of code uses the ravel() function from the NumPy library to \"flatten\" the confusion matrix cf into a one-dimensional array, and then assigns each element of that array to a separate variable.\n",
        "tp, fp, tn, fn = cf.ravel()\n",
        "\n",
        "#represents the number of true positives in the model's predictions.\n",
        "print ('True Positive', tp)\n",
        "\n",
        "#represents the number of false positives in the model's predictions.\n",
        "print ('False Positive', fp)\n",
        "\n",
        "#represents the number of true negatives in the model's predictions.\n",
        "print ('Tre Negative', tn)\n",
        "\n",
        "#represents the number of false negatives in the model's predictions.\n",
        "print ('False Negative', fn)"
      ],
      "metadata": {
        "colab": {
          "base_uri": "https://localhost:8080/"
        },
        "id": "3CX9lLrEzs5S",
        "outputId": "f607447e-0556-455f-bec2-2303ce0621a1"
      },
      "execution_count": null,
      "outputs": [
        {
          "output_type": "stream",
          "name": "stdout",
          "text": [
            "True Positive 110\n",
            "False Positive 37\n",
            "Tre Negative 15\n",
            "False Negative 37\n"
          ]
        }
      ]
    },
    {
      "cell_type": "markdown",
      "source": [
        "**Computation of Type 1 and Type 2 error**"
      ],
      "metadata": {
        "id": "NtJLUPkG8mF0"
      }
    },
    {
      "cell_type": "code",
      "source": [
        "#this line of code calculates the total number of type I and type II errors made by the model, expressed as a percentage of the total number of predictions.\n",
        "type_er = (cf [0,1] + cf [1,0]) / total * 100\n",
        "\n",
        "#this line of code prints out the value of type_er in a human-readable format, indicating the percentage of total predictions that resulted in a type I or type II error.\n",
        "print ('Type I and Type 2 Error: {:.2f}%'.format(type_er))"
      ],
      "metadata": {
        "colab": {
          "base_uri": "https://localhost:8080/"
        },
        "id": "FkCKaZv3zVMS",
        "outputId": "7367beec-fcae-49ea-a5d7-5b628066dc7f"
      },
      "execution_count": null,
      "outputs": [
        {
          "output_type": "stream",
          "name": "stdout",
          "text": [
            "Type I and Type 2 Error: 26.13%\n"
          ]
        }
      ]
    },
    {
      "cell_type": "markdown",
      "source": [
        "*# **Test Case #1**"
      ],
      "metadata": {
        "id": "NcxkGZIHRLOp"
      }
    },
    {
      "cell_type": "code",
      "source": [
        "#Program to input the glucose and blood pressure\n",
        "\n",
        "#this DataFrame will be used to hold a single sample of data that the user enters in the next two lines of code.\n",
        "df_sample = pd.DataFrame (columns = ['Glucose', 'BloodPressure'])\n",
        "\n",
        "#this line of code prompts the user to enter a value for the 'Glucose' variable\n",
        "glucose = input ('Enter Glucose:')\n",
        "\n",
        "#this line of code prompts the user to enter a value for the 'BloodPressure' variable\n",
        "bloodpressure = input ('Enter Blood Pressure:')\n",
        "\n",
        "#this line of code adds the user's input for 'Glucose' and 'BloodPressure' to a new row at the bottom of the df_sample DataFrame.\n",
        "df_sample.loc [len(df_sample.index)] = [glucose,bloodpressure]\n"
      ],
      "metadata": {
        "colab": {
          "base_uri": "https://localhost:8080/"
        },
        "outputId": "86c1da55-9b89-4e63-f956-024bc965d2df",
        "id": "fwf6tXuSRLOp"
      },
      "execution_count": null,
      "outputs": [
        {
          "name": "stdout",
          "output_type": "stream",
          "text": [
            "Enter Glucose:92\n",
            "Enter Blood Pressure:62\n"
          ]
        }
      ]
    },
    {
      "cell_type": "code",
      "source": [
        "#Showing Sample Data\n",
        "df_sample"
      ],
      "metadata": {
        "colab": {
          "base_uri": "https://localhost:8080/",
          "height": 81
        },
        "outputId": "c6b1c0d3-609f-45a7-8cd2-0fbd591372b9",
        "id": "ep_4ugnGRLOq"
      },
      "execution_count": null,
      "outputs": [
        {
          "output_type": "execute_result",
          "data": {
            "text/plain": [
              "  Glucose BloodPressure\n",
              "0      92            62"
            ],
            "text/html": [
              "\n",
              "  <div id=\"df-86bb826b-6e3e-492c-9959-16a414bb36f8\">\n",
              "    <div class=\"colab-df-container\">\n",
              "      <div>\n",
              "<style scoped>\n",
              "    .dataframe tbody tr th:only-of-type {\n",
              "        vertical-align: middle;\n",
              "    }\n",
              "\n",
              "    .dataframe tbody tr th {\n",
              "        vertical-align: top;\n",
              "    }\n",
              "\n",
              "    .dataframe thead th {\n",
              "        text-align: right;\n",
              "    }\n",
              "</style>\n",
              "<table border=\"1\" class=\"dataframe\">\n",
              "  <thead>\n",
              "    <tr style=\"text-align: right;\">\n",
              "      <th></th>\n",
              "      <th>Glucose</th>\n",
              "      <th>BloodPressure</th>\n",
              "    </tr>\n",
              "  </thead>\n",
              "  <tbody>\n",
              "    <tr>\n",
              "      <th>0</th>\n",
              "      <td>92</td>\n",
              "      <td>62</td>\n",
              "    </tr>\n",
              "  </tbody>\n",
              "</table>\n",
              "</div>\n",
              "      <button class=\"colab-df-convert\" onclick=\"convertToInteractive('df-86bb826b-6e3e-492c-9959-16a414bb36f8')\"\n",
              "              title=\"Convert this dataframe to an interactive table.\"\n",
              "              style=\"display:none;\">\n",
              "        \n",
              "  <svg xmlns=\"http://www.w3.org/2000/svg\" height=\"24px\"viewBox=\"0 0 24 24\"\n",
              "       width=\"24px\">\n",
              "    <path d=\"M0 0h24v24H0V0z\" fill=\"none\"/>\n",
              "    <path d=\"M18.56 5.44l.94 2.06.94-2.06 2.06-.94-2.06-.94-.94-2.06-.94 2.06-2.06.94zm-11 1L8.5 8.5l.94-2.06 2.06-.94-2.06-.94L8.5 2.5l-.94 2.06-2.06.94zm10 10l.94 2.06.94-2.06 2.06-.94-2.06-.94-.94-2.06-.94 2.06-2.06.94z\"/><path d=\"M17.41 7.96l-1.37-1.37c-.4-.4-.92-.59-1.43-.59-.52 0-1.04.2-1.43.59L10.3 9.45l-7.72 7.72c-.78.78-.78 2.05 0 2.83L4 21.41c.39.39.9.59 1.41.59.51 0 1.02-.2 1.41-.59l7.78-7.78 2.81-2.81c.8-.78.8-2.07 0-2.86zM5.41 20L4 18.59l7.72-7.72 1.47 1.35L5.41 20z\"/>\n",
              "  </svg>\n",
              "      </button>\n",
              "      \n",
              "  <style>\n",
              "    .colab-df-container {\n",
              "      display:flex;\n",
              "      flex-wrap:wrap;\n",
              "      gap: 12px;\n",
              "    }\n",
              "\n",
              "    .colab-df-convert {\n",
              "      background-color: #E8F0FE;\n",
              "      border: none;\n",
              "      border-radius: 50%;\n",
              "      cursor: pointer;\n",
              "      display: none;\n",
              "      fill: #1967D2;\n",
              "      height: 32px;\n",
              "      padding: 0 0 0 0;\n",
              "      width: 32px;\n",
              "    }\n",
              "\n",
              "    .colab-df-convert:hover {\n",
              "      background-color: #E2EBFA;\n",
              "      box-shadow: 0px 1px 2px rgba(60, 64, 67, 0.3), 0px 1px 3px 1px rgba(60, 64, 67, 0.15);\n",
              "      fill: #174EA6;\n",
              "    }\n",
              "\n",
              "    [theme=dark] .colab-df-convert {\n",
              "      background-color: #3B4455;\n",
              "      fill: #D2E3FC;\n",
              "    }\n",
              "\n",
              "    [theme=dark] .colab-df-convert:hover {\n",
              "      background-color: #434B5C;\n",
              "      box-shadow: 0px 1px 3px 1px rgba(0, 0, 0, 0.15);\n",
              "      filter: drop-shadow(0px 1px 2px rgba(0, 0, 0, 0.3));\n",
              "      fill: #FFFFFF;\n",
              "    }\n",
              "  </style>\n",
              "\n",
              "      <script>\n",
              "        const buttonEl =\n",
              "          document.querySelector('#df-86bb826b-6e3e-492c-9959-16a414bb36f8 button.colab-df-convert');\n",
              "        buttonEl.style.display =\n",
              "          google.colab.kernel.accessAllowed ? 'block' : 'none';\n",
              "\n",
              "        async function convertToInteractive(key) {\n",
              "          const element = document.querySelector('#df-86bb826b-6e3e-492c-9959-16a414bb36f8');\n",
              "          const dataTable =\n",
              "            await google.colab.kernel.invokeFunction('convertToInteractive',\n",
              "                                                     [key], {});\n",
              "          if (!dataTable) return;\n",
              "\n",
              "          const docLinkHtml = 'Like what you see? Visit the ' +\n",
              "            '<a target=\"_blank\" href=https://colab.research.google.com/notebooks/data_table.ipynb>data table notebook</a>'\n",
              "            + ' to learn more about interactive tables.';\n",
              "          element.innerHTML = '';\n",
              "          dataTable['output_type'] = 'display_data';\n",
              "          await google.colab.output.renderOutput(dataTable, element);\n",
              "          const docLink = document.createElement('div');\n",
              "          docLink.innerHTML = docLinkHtml;\n",
              "          element.appendChild(docLink);\n",
              "        }\n",
              "      </script>\n",
              "    </div>\n",
              "  </div>\n",
              "  "
            ]
          },
          "metadata": {},
          "execution_count": 20
        }
      ]
    },
    {
      "cell_type": "code",
      "source": [
        "#Predicted value of the sample data frame\n",
        "model.predict(df_sample)"
      ],
      "metadata": {
        "colab": {
          "base_uri": "https://localhost:8080/"
        },
        "outputId": "b4681aae-fdcd-4cb8-b123-184a13bd04c7",
        "id": "dTmTU56_RLOr"
      },
      "execution_count": null,
      "outputs": [
        {
          "output_type": "execute_result",
          "data": {
            "text/plain": [
              "array([0])"
            ]
          },
          "metadata": {},
          "execution_count": 21
        }
      ]
    },
    {
      "cell_type": "code",
      "source": [
        "#Creating python program to compute prediction\n",
        "prediction = model.predict(df_sample)\n",
        "if prediction == 0:\n",
        "  print ('Not Diabetic')\n",
        "else:\n",
        "  print ('Diabetic')\n"
      ],
      "metadata": {
        "colab": {
          "base_uri": "https://localhost:8080/"
        },
        "outputId": "ab09e913-6e32-4bb9-b7e6-acea6e1ba144",
        "id": "zTtk-kv8RLOr"
      },
      "execution_count": null,
      "outputs": [
        {
          "output_type": "stream",
          "name": "stdout",
          "text": [
            "Not Diabetic\n"
          ]
        }
      ]
    },
    {
      "cell_type": "markdown",
      "source": [
        "\n",
        "# **Test Case #2** - False Negative"
      ],
      "metadata": {
        "id": "xWPNI0RqRyBs"
      }
    },
    {
      "cell_type": "code",
      "source": [
        "#Program to input the glucose and blood pressure\n",
        "df_sample = pd.DataFrame (columns = ['Glucose', 'BloodPressure'])\n",
        "glucose = input ('Enter Glucose:')\n",
        "bloodpressure = input ('Enter Blood Pressure:')\n",
        "df_sample.loc [len(df_sample.index)] = [glucose,bloodpressure]\n",
        "\n",
        "\n",
        "#Showing Sample Data\n",
        "df_sample\n",
        "\n",
        "\n",
        "#Predicted value of the sample data frame\n",
        "model.predict(df_sample)\n",
        "\n",
        "\n",
        "#Creating python program to compute prediction\n",
        "prediction = model.predict(df_sample)\n",
        "if prediction == 0:\n",
        "  print ('Not Diabetic')\n",
        "else:\n",
        "  print ('Diabetic')\n"
      ],
      "metadata": {
        "colab": {
          "base_uri": "https://localhost:8080/"
        },
        "outputId": "15788495-e02e-4cd7-9c0a-a141d6ddb6bb",
        "id": "57hdZze1RyBs"
      },
      "execution_count": null,
      "outputs": [
        {
          "output_type": "stream",
          "name": "stdout",
          "text": [
            "Enter Glucose:134\n",
            "Enter Blood Pressure:72\n",
            "Not Diabetic\n"
          ]
        }
      ]
    },
    {
      "cell_type": "markdown",
      "source": [
        "\n",
        "# **Test Case #3**"
      ],
      "metadata": {
        "id": "G583vF88Sr6r"
      }
    },
    {
      "cell_type": "code",
      "source": [
        "#Program to input the glucose and blood pressure\n",
        "df_sample = pd.DataFrame (columns = ['Glucose', 'BloodPressure'])\n",
        "glucose = input ('Enter Glucose:')\n",
        "bloodpressure = input ('Enter Blood Pressure:')\n",
        "df_sample.loc [len(df_sample.index)] = [glucose,bloodpressure]\n",
        "\n",
        "\n",
        "#Showing Sample Data\n",
        "df_sample\n",
        "\n",
        "\n",
        "#Predicted value of the sample data frame\n",
        "model.predict(df_sample)\n",
        "\n",
        "\n",
        "#Creating python program to compute prediction\n",
        "prediction = model.predict(df_sample)\n",
        "if prediction == 0:\n",
        "  print ('Not Diabetic')\n",
        "else:\n",
        "  print ('Diabetic')\n"
      ],
      "metadata": {
        "colab": {
          "base_uri": "https://localhost:8080/"
        },
        "outputId": "585e9847-d470-4481-decf-59e2ea79da38",
        "id": "y4EKjLamSr6r"
      },
      "execution_count": null,
      "outputs": [
        {
          "output_type": "stream",
          "name": "stdout",
          "text": [
            "Enter Glucose:117\n",
            "Enter Blood Pressure:92\n",
            "Not Diabetic\n"
          ]
        }
      ]
    },
    {
      "cell_type": "markdown",
      "source": [
        "\n",
        "# **Test Case #4** - False Positive"
      ],
      "metadata": {
        "id": "8kScXKQoTU67"
      }
    },
    {
      "cell_type": "code",
      "source": [
        "#Program to input the glucose and blood pressure\n",
        "df_sample = pd.DataFrame (columns = ['Glucose', 'BloodPressure'])\n",
        "glucose = input ('Enter Glucose:')\n",
        "bloodpressure = input ('Enter Blood Pressure:')\n",
        "df_sample.loc [len(df_sample.index)] = [glucose,bloodpressure]\n",
        "\n",
        "\n",
        "#Showing Sample Data\n",
        "df_sample\n",
        "\n",
        "\n",
        "#Predicted value of the sample data frame\n",
        "model.predict(df_sample)\n",
        "\n",
        "\n",
        "#Creating python program to compute prediction\n",
        "prediction = model.predict(df_sample)\n",
        "if prediction == 0:\n",
        "  print ('Not Diabetic')\n",
        "else:\n",
        "  print ('Diabetic')\n"
      ],
      "metadata": {
        "colab": {
          "base_uri": "https://localhost:8080/"
        },
        "outputId": "af7d68dd-a0f7-4567-9d5f-c30394305f3f",
        "id": "oTIE8FRBTU68"
      },
      "execution_count": null,
      "outputs": [
        {
          "output_type": "stream",
          "name": "stdout",
          "text": [
            "Enter Glucose:145\n",
            "Enter Blood Pressure:82\n",
            "Diabetic\n"
          ]
        }
      ]
    },
    {
      "cell_type": "markdown",
      "source": [
        "\n",
        "# **Test Case #5** - False Negative"
      ],
      "metadata": {
        "id": "cM9L0sB8T3ua"
      }
    },
    {
      "cell_type": "code",
      "source": [
        "#Program to input the glucose and blood pressure\n",
        "df_sample = pd.DataFrame (columns = ['Glucose', 'BloodPressure'])\n",
        "glucose = input ('Enter Glucose:')\n",
        "bloodpressure = input ('Enter Blood Pressure:')\n",
        "df_sample.loc [len(df_sample.index)] = [glucose,bloodpressure]\n",
        "\n",
        "\n",
        "#Showing Sample Data\n",
        "df_sample\n",
        "\n",
        "\n",
        "#Predicted value of the sample data frame\n",
        "model.predict(df_sample)\n",
        "\n",
        "\n",
        "#Creating python program to compute prediction\n",
        "prediction = model.predict(df_sample)\n",
        "if prediction == 0:\n",
        "  print ('Not Diabetic')\n",
        "else:\n",
        "  print ('Diabetic')\n"
      ],
      "metadata": {
        "colab": {
          "base_uri": "https://localhost:8080/"
        },
        "outputId": "4651c295-c174-40fc-90a3-105ba22b42a3",
        "id": "3pjy8pnXT3ua"
      },
      "execution_count": null,
      "outputs": [
        {
          "output_type": "stream",
          "name": "stdout",
          "text": [
            "Enter Glucose:114\n",
            "Enter Blood Pressure:66\n",
            "Not Diabetic\n"
          ]
        }
      ]
    },
    {
      "cell_type": "markdown",
      "source": [
        "# **Conclusion of Test Cases**\n",
        "\n",
        "Based on the test cases presented above, there appears to be a relationship between high glucose levels, high blood pressure, and the likelihood of being diagnosed with diabetes. It is important to note, however, that a diagnosis of diabetes should only be made by a healthcare professional after performing appropriate tests and considering the individual's medical history and symptoms. Nonetheless, the results suggest a pattern wherein high glucose levels are strongly associated with a diagnosis of diabetes.\n",
        "\n",
        "# **Recomendation to Diabetic and Non-Diabetic Person**\n",
        "Aside from daily monitoring of blood glucose levels and blood pressure, it is important for people with diabetes to follow a healthy lifestyle that includes regular exercise, a balanced diet, and medication management as prescribed by their healthcare provider. Regular medical check-ups, including eye exams and foot exams, are also important for detecting and managing any complications of diabetes.\n",
        "\n",
        "To avoid diabetes, maintain a healthy diet, exercise regularly, maintain a healthy weight, quit smoking, and manage stress levels. While it may not be possible to eliminate the risk of diabetes completely, making these lifestyle modifications can help to reduce the risk and improve overall health. Consult with a healthcare professional for personalized advice."
      ],
      "metadata": {
        "id": "9KAAxjSHUErL"
      }
    }
  ]
}